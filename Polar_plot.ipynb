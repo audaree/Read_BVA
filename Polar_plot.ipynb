{
 "cells": [
  {
   "cell_type": "markdown",
   "id": "4743531b",
   "metadata": {},
   "source": [
    "## Produce Polar axis "
   ]
  },
  {
   "cell_type": "code",
   "execution_count": null,
   "id": "1bb0bd84",
   "metadata": {
    "scrolled": false
   },
   "outputs": [],
   "source": [
    "using Dates\n",
    "using CairoMakie\n",
    "\n",
    "# Widen screen for better viewing\n",
    "display(\"text/html\", \"<style>.container { width:100% !important; }</style>\")\n",
    "\n",
    "date_time = DateTime(Date(now()))\n",
    "fig = Figure(size=(1200,3000))\n",
    "supertitle = fig[0, :] = Label(fig, Dates.format(date_time, \"yyyy-mm-dd\"),\n",
    "    fontsize = 24, color = (:black, 0.25))\n",
    "\n",
    "total=-1\n",
    "\n",
    "for row = 1:8\n",
    "\n",
    "    for col in 1:6\n",
    "        \n",
    "        total+=1\n",
    "        time_string = (Dates.format(date_time + Minute(30*total), \"HH:MM\"))\n",
    "                \n",
    "        ax = PolarAxis(fig[row, col],\n",
    "        title=time_string,\n",
    "        thetaticklabelsize = 12, \n",
    "        rticklabelsize = 12, \n",
    "        theta_0=-pi/2, direction=-1, \n",
    "        width=275, height=275,\n",
    "        )\n",
    "\n",
    "    end\n",
    "\n",
    "end\n",
    "\n",
    "resize_to_layout!(fig)\n",
    "fig"
   ]
  },
  {
   "cell_type": "code",
   "execution_count": null,
   "id": "a936267e",
   "metadata": {},
   "outputs": [],
   "source": [
    "save(\"polar_test1.png\", fig, px_per_unit = 1)"
   ]
  },
  {
   "cell_type": "code",
   "execution_count": null,
   "id": "310dd27e",
   "metadata": {},
   "outputs": [],
   "source": []
  }
 ],
 "metadata": {
  "kernelspec": {
   "display_name": "Julia 1.9.4",
   "language": "julia",
   "name": "julia-1.9"
  },
  "language_info": {
   "file_extension": ".jl",
   "mimetype": "application/julia",
   "name": "julia",
   "version": "1.9.4"
  }
 },
 "nbformat": 4,
 "nbformat_minor": 5
}
